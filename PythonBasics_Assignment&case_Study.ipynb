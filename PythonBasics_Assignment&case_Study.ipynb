{
  "metadata": {
    "kernelspec": {
      "name": "python",
      "display_name": "Python (Pyodide)",
      "language": "python"
    },
    "language_info": {
      "codemirror_mode": {
        "name": "python",
        "version": 3
      },
      "file_extension": ".py",
      "mimetype": "text/x-python",
      "name": "python",
      "nbconvert_exporter": "python",
      "pygments_lexer": "ipython3",
      "version": "3.8"
    }
  },
  "nbformat_minor": 4,
  "nbformat": 4,
  "cells": [
    {
      "cell_type": "markdown",
      "source": "# Python Basics – Assignment And Case Study",
      "metadata": {}
    },
    {
      "cell_type": "markdown",
      "source": "# If-Else Assignment -1",
      "metadata": {}
    },
    {
      "cell_type": "code",
      "source": "a = 10\nb = 20\n\n# Check if a is greater than b\nif a > b:\n    print(f\"{a} is greater than {b}.\")\nelif a < b:\n    print(f\"{b} is greater than {a}.\")\nelse:\n    print(f\"{a} and {b} are equal.\")\n",
      "metadata": {
        "trusted": true
      },
      "outputs": [
        {
          "name": "stdout",
          "text": "20 is greater than 10.\n",
          "output_type": "stream"
        }
      ],
      "execution_count": 1
    },
    {
      "cell_type": "markdown",
      "source": "# Conditional Statements Assignment -2\n",
      "metadata": {}
    },
    {
      "cell_type": "code",
      "source": "try:\n    input1 = float(input(\"Enter the first number: \"))\n    input2 = float(input(\"Enter the second number: \"))\n    input3 = float(input(\"Enter the third number: \"))\nexcept ValueError:\n    print(\"Invalid input. Please enter numeric values.\")\n    exit()\n\nif input1 > input2 and input1 > input3:\n    print(f\"The greatest number is: {input1}\")\nelif input2 > input1 and input2 > input3:\n    print(f\"The greatest number is: {input2}\")\nelif input3 > input1 and input3 > input2:\n    print(f\"The greatest number is: {input3}\")\nelse:\n    print(\"All three numbers are equal.\")\n",
      "metadata": {
        "trusted": true
      },
      "outputs": [
        {
          "ename": "<class 'TypeError'>",
          "evalue": "float() argument must be a string or a real number, not 'PyodideFuture'",
          "traceback": [
            "\u001b[0;31m---------------------------------------------------------------------------\u001b[0m",
            "\u001b[0;31mTypeError\u001b[0m                                 Traceback (most recent call last)",
            "Cell \u001b[0;32mIn[3], line 3\u001b[0m\n\u001b[1;32m      1\u001b[0m \u001b[38;5;66;03m# Take user inputs\u001b[39;00m\n\u001b[1;32m      2\u001b[0m \u001b[38;5;28;01mtry\u001b[39;00m:\n\u001b[0;32m----> 3\u001b[0m     input1 \u001b[38;5;241m=\u001b[39m \u001b[38;5;28;43mfloat\u001b[39;49m\u001b[43m(\u001b[49m\u001b[38;5;28;43minput\u001b[39;49m\u001b[43m(\u001b[49m\u001b[38;5;124;43m\"\u001b[39;49m\u001b[38;5;124;43mEnter the first number: \u001b[39;49m\u001b[38;5;124;43m\"\u001b[39;49m\u001b[43m)\u001b[49m\u001b[43m)\u001b[49m\n\u001b[1;32m      4\u001b[0m     input2 \u001b[38;5;241m=\u001b[39m \u001b[38;5;28mfloat\u001b[39m(\u001b[38;5;28minput\u001b[39m(\u001b[38;5;124m\"\u001b[39m\u001b[38;5;124mEnter the second number: \u001b[39m\u001b[38;5;124m\"\u001b[39m))\n\u001b[1;32m      5\u001b[0m     input3 \u001b[38;5;241m=\u001b[39m \u001b[38;5;28mfloat\u001b[39m(\u001b[38;5;28minput\u001b[39m(\u001b[38;5;124m\"\u001b[39m\u001b[38;5;124mEnter the third number: \u001b[39m\u001b[38;5;124m\"\u001b[39m))\n",
            "\u001b[0;31mTypeError\u001b[0m: float() argument must be a string or a real number, not 'PyodideFuture'"
          ],
          "output_type": "error"
        },
        {
          "output_type": "stream",
          "name": "stdin",
          "text": "Enter the first number:  suman\n"
        }
      ],
      "execution_count": 3
    },
    {
      "cell_type": "markdown",
      "source": "# Assignment 3 \n ",
      "metadata": {}
    },
    {
      "cell_type": "code",
      "source": "def is_prime(num):\n    \"\"\"Function to check if a number is prime.\"\"\"\n    if num < 2:\n        return False\n    for i in range(2, int(num**0.5) + 1):\n        if num % i == 0:\n            return False\n    return True\n\n# Take user inputs to create an array\ntry:\n    n = int(input(\"Enter the number of elements in the array: \"))\n    user_array = [int(input(f\"Enter element {i + 1}: \")) for i in range(n)]\nexcept ValueError:\n    print(\"Invalid input. Please enter numeric values.\")\n    exit()\n\n# Fetch and print prime numbers using a for loop\nprint(\"Prime numbers in the array:\")\nfor num in user_array:\n    if is_prime(num):\n        print(num)\n",
      "metadata": {
        "trusted": true
      },
      "outputs": [
        {
          "ename": "<class 'TypeError'>",
          "evalue": "int() argument must be a string, a bytes-like object or a real number, not 'PyodideFuture'",
          "traceback": [
            "\u001b[0;31m---------------------------------------------------------------------------\u001b[0m",
            "\u001b[0;31mTypeError\u001b[0m                                 Traceback (most recent call last)",
            "Cell \u001b[0;32mIn[4], line 12\u001b[0m\n\u001b[1;32m     10\u001b[0m \u001b[38;5;66;03m# Take user inputs to create an array\u001b[39;00m\n\u001b[1;32m     11\u001b[0m \u001b[38;5;28;01mtry\u001b[39;00m:\n\u001b[0;32m---> 12\u001b[0m     n \u001b[38;5;241m=\u001b[39m \u001b[38;5;28;43mint\u001b[39;49m\u001b[43m(\u001b[49m\u001b[38;5;28;43minput\u001b[39;49m\u001b[43m(\u001b[49m\u001b[38;5;124;43m\"\u001b[39;49m\u001b[38;5;124;43mEnter the number of elements in the array: \u001b[39;49m\u001b[38;5;124;43m\"\u001b[39;49m\u001b[43m)\u001b[49m\u001b[43m)\u001b[49m\n\u001b[1;32m     13\u001b[0m     user_array \u001b[38;5;241m=\u001b[39m [\u001b[38;5;28mint\u001b[39m(\u001b[38;5;28minput\u001b[39m(\u001b[38;5;124mf\u001b[39m\u001b[38;5;124m\"\u001b[39m\u001b[38;5;124mEnter element \u001b[39m\u001b[38;5;132;01m{\u001b[39;00mi\u001b[38;5;250m \u001b[39m\u001b[38;5;241m+\u001b[39m\u001b[38;5;250m \u001b[39m\u001b[38;5;241m1\u001b[39m\u001b[38;5;132;01m}\u001b[39;00m\u001b[38;5;124m: \u001b[39m\u001b[38;5;124m\"\u001b[39m)) \u001b[38;5;28;01mfor\u001b[39;00m i \u001b[38;5;129;01min\u001b[39;00m \u001b[38;5;28mrange\u001b[39m(n)]\n\u001b[1;32m     14\u001b[0m \u001b[38;5;28;01mexcept\u001b[39;00m \u001b[38;5;167;01mValueError\u001b[39;00m:\n",
            "\u001b[0;31mTypeError\u001b[0m: int() argument must be a string, a bytes-like object or a real number, not 'PyodideFuture'"
          ],
          "output_type": "error"
        },
        {
          "output_type": "stream",
          "name": "stdin",
          "text": "Enter the number of elements in the array:  12\n"
        }
      ],
      "execution_count": 4
    },
    {
      "cell_type": "markdown",
      "source": "# Loops Assignment \n",
      "metadata": {}
    },
    {
      "cell_type": "code",
      "source": "You work in XYZ Corporation as a Data Analyst. Your company has told you to work with the If- \nElse Conditions. \nTasks to be performed: \n1. Print the numbers from 1 to 10 using while loop.",
      "metadata": {
        "trusted": true
      },
      "outputs": [],
      "execution_count": null
    },
    {
      "cell_type": "code",
      "source": "# Initialize a counter\ncounter = 1\n\n# Print numbers from 1 to 10 using a while loop\nwhile counter <= 10:\n    print(counter)\n    counter += 1\n",
      "metadata": {
        "trusted": true
      },
      "outputs": [
        {
          "name": "stdout",
          "text": "1\n2\n3\n4\n5\n6\n7\n8\n9\n10\n",
          "output_type": "stream"
        }
      ],
      "execution_count": 6
    },
    {
      "cell_type": "markdown",
      "source": "# Loops Assignment - 2 \n",
      "metadata": {}
    },
    {
      "cell_type": "code",
      "source": "# Create a list\nnumbers = [10, 23, 4, 26, 4, 75, 24, 54]\n\n# Initialize a counter\nindex = 0\n\n# Use a while loop to fetch and print even numbers\nwhile index < len(numbers):\n    if numbers[index] % 2 == 0:\n        print(numbers[index])\n    index += 1\n",
      "metadata": {
        "trusted": true
      },
      "outputs": [
        {
          "name": "stdout",
          "text": "10\n4\n26\n4\n24\n54\n",
          "output_type": "stream"
        }
      ],
      "execution_count": 7
    },
    {
      "cell_type": "code",
      "source": "",
      "metadata": {
        "trusted": true
      },
      "outputs": [],
      "execution_count": null
    },
    {
      "cell_type": "markdown",
      "source": "# Module 1: Introduction to Python Assignment - 1 \n",
      "metadata": {}
    },
    {
      "cell_type": "code",
      "source": "# Task 1\nsquares = [x**2 for x in range(1, 11)]\nprint(squares)\n",
      "metadata": {
        "trusted": true
      },
      "outputs": [
        {
          "name": "stdout",
          "text": "[1, 4, 9, 16, 25, 36, 49, 64, 81, 100]\n",
          "output_type": "stream"
        }
      ],
      "execution_count": 8
    },
    {
      "cell_type": "code",
      "source": "# Task 2\ndef is_leap_year(year):\n    if (year % 4 == 0 and year % 100 != 0) or (year % 400 == 0):\n        return True\n    else:\n        return False\n\n# Example usage\nyear_to_check = 2024\nprint(f\"{year_to_check} is a leap year: {is_leap_year(year_to_check)}\")\n",
      "metadata": {
        "trusted": true
      },
      "outputs": [
        {
          "name": "stdout",
          "text": "2024 is a leap year: True\n",
          "output_type": "stream"
        }
      ],
      "execution_count": 9
    },
    {
      "cell_type": "code",
      "source": "# Task 3\ndef filter_even_numbers(arr):\n    return [x for x in arr if x % 2 == 0]\n\n# Example usage\nnumbers = [1, 2, 3, 4, 5, 6, 7, 8, 9, 10]\neven_numbers = filter_even_numbers(numbers)\nprint(even_numbers)\n",
      "metadata": {
        "trusted": true
      },
      "outputs": [
        {
          "name": "stdout",
          "text": "[2, 4, 6, 8, 10]\n",
          "output_type": "stream"
        }
      ],
      "execution_count": 10
    },
    {
      "cell_type": "code",
      "source": "# Task 4\ndef common_elements(arr1, arr2):\n    common = [x for x in arr1 if x in arr2]\n    print(f\"Common elements: {common}\")\n\n# Example usage\narray1 = [1, 2, 3, 4, 5]\narray2 = [3, 4, 5, 6, 7]\ncommon_elements(array1, array2)\n",
      "metadata": {
        "trusted": true
      },
      "outputs": [
        {
          "name": "stdout",
          "text": "Common elements: [3, 4, 5]\n",
          "output_type": "stream"
        }
      ],
      "execution_count": 11
    },
    {
      "cell_type": "code",
      "source": "",
      "metadata": {
        "trusted": true
      },
      "outputs": [],
      "execution_count": null
    },
    {
      "cell_type": "markdown",
      "source": "# Module 1 - Introduction to Python Assignment - 2 \n",
      "metadata": {}
    },
    {
      "cell_type": "code",
      "source": "# Task 1\ntuple1 = (10, 20, 30)\ntuple2 = (40, 50, 60)\n\n# a. Concatenate the two tuples and store it in “t_combine”\nt_combine = tuple1 + tuple2\n\n# b. Repeat the elements of “t_combine” 3 times\nt_combine *= 3\n\n# c. Access the 3rd element from “t_combine”\nthird_element = t_combine[2]\n\n# d. Access the first three elements from “t_combine”\nfirst_three_elements = t_combine[:3]\n\n# e. Access the last three elements from “t_combine”\nlast_three_elements = t_combine[-3:]\n\nprint(t_combine)\nprint(third_element)\nprint(first_three_elements)\nprint(last_three_elements)\n",
      "metadata": {
        "trusted": true
      },
      "outputs": [
        {
          "name": "stdout",
          "text": "(10, 20, 30, 40, 50, 60, 10, 20, 30, 40, 50, 60, 10, 20, 30, 40, 50, 60)\n30\n(10, 20, 30)\n(40, 50, 60)\n",
          "output_type": "stream"
        }
      ],
      "execution_count": 12
    },
    {
      "cell_type": "code",
      "source": "# Task 2\nmy_list = [\n    (1, 2, 3),\n    ('a', 'b', 'c'),\n    (True, False)\n]\n\n# 3. Append a new tuple – (1,’a’,True) to ‘my_list’\nmy_list.append((1, 'a', True))\n\n# 3a. Append a new list – *\"sparta\", 123+* to my_list\nmy_list.append(list(\"sparta\") + [123])\n\nprint(my_list)\n",
      "metadata": {
        "trusted": true
      },
      "outputs": [
        {
          "name": "stdout",
          "text": "[(1, 2, 3), ('a', 'b', 'c'), (True, False), (1, 'a', True), ['s', 'p', 'a', 'r', 't', 'a', 123]]\n",
          "output_type": "stream"
        }
      ],
      "execution_count": 13
    },
    {
      "cell_type": "code",
      "source": "# Task 4\nfruit = {\n    'Fruit': (\"Apple\", \"Banana\", \"Mango\", \"Guava\"),\n    'Cost': (85, 54, 120, 70)\n}\n\n# a. Extract all the keys from ‘fruit’\nkeys = fruit.keys()\n\n# b. Extract all the values from ‘fruit’\nvalues = fruit.values()\n\nprint(keys)\nprint(values)\n",
      "metadata": {
        "trusted": true
      },
      "outputs": [
        {
          "name": "stdout",
          "text": "dict_keys(['Fruit', 'Cost'])\ndict_values([('Apple', 'Banana', 'Mango', 'Guava'), (85, 54, 120, 70)])\n",
          "output_type": "stream"
        }
      ],
      "execution_count": 14
    },
    {
      "cell_type": "code",
      "source": "# Task 5\nmy_set = {1, 1, \"a\", \"a\", True, True}\nprint(my_set)\n",
      "metadata": {
        "trusted": true
      },
      "outputs": [
        {
          "name": "stdout",
          "text": "{1, 'a'}\n",
          "output_type": "stream"
        }
      ],
      "execution_count": 15
    },
    {
      "cell_type": "code",
      "source": "",
      "metadata": {
        "trusted": true
      },
      "outputs": [],
      "execution_count": null
    },
    {
      "cell_type": "code",
      "source": "",
      "metadata": {
        "trusted": true
      },
      "outputs": [],
      "execution_count": null
    }
  ]
}
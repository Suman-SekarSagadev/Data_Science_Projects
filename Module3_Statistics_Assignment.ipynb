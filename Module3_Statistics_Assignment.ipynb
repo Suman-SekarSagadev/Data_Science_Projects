{
  "metadata": {
    "kernelspec": {
      "name": "python",
      "display_name": "Python (Pyodide)",
      "language": "python"
    },
    "language_info": {
      "codemirror_mode": {
        "name": "python",
        "version": 3
      },
      "file_extension": ".py",
      "mimetype": "text/x-python",
      "name": "python",
      "nbconvert_exporter": "python",
      "pygments_lexer": "ipython3",
      "version": "3.8"
    }
  },
  "nbformat_minor": 4,
  "nbformat": 4,
  "cells": [
    {
      "cell_type": "markdown",
      "source": "# Module 3: Statistics Assignment \n",
      "metadata": {}
    },
    {
      "cell_type": "code",
      "source": "import pandas as pd\nimport numpy as np\nfrom scipy import stats\n\n# Creating a DataFrame with columns x and y\ndata = {'x': [1, 2, 3, 4, 5], 'y': [2, 4, 5, 4, 2]}\ndf = pd.DataFrame(data)\n\n# Calculating mean of columns x and y\nmean_x = np.mean(df['x'])\nmean_y = np.mean(df['y'])\n\n# Calculating mode of column x\nmode_x = stats.mode(df['x']).mode[0]\n\n# Calculating standard deviation of column y\nstd_dev_y = np.std(df['y'])\n\n# Calculating range of columns x and y\nrange_x = np.ptp(df['x'])\nrange_y = np.ptp(df['y'])\n\n# Displaying the results\nprint(f\"Mean of column x: {mean_x}\")\nprint(f\"Mean of column y: {mean_y}\")\nprint(f\"Mode of column x: {mode_x}\")\nprint(f\"Standard Deviation of column y: {std_dev_y}\")\nprint(f\"Range of column x: {range_x}\")\nprint(f\"Range of column y: {range_y}\")\n",
      "metadata": {
        "trusted": true
      },
      "outputs": [
        {
          "ename": "<class 'IndexError'>",
          "evalue": "invalid index to scalar variable.",
          "traceback": [
            "\u001b[0;31m---------------------------------------------------------------------------\u001b[0m",
            "\u001b[0;31mIndexError\u001b[0m                                Traceback (most recent call last)",
            "Cell \u001b[0;32mIn[1], line 14\u001b[0m\n\u001b[1;32m     11\u001b[0m mean_y \u001b[38;5;241m=\u001b[39m np\u001b[38;5;241m.\u001b[39mmean(df[\u001b[38;5;124m'\u001b[39m\u001b[38;5;124my\u001b[39m\u001b[38;5;124m'\u001b[39m])\n\u001b[1;32m     13\u001b[0m \u001b[38;5;66;03m# Calculating mode of column x\u001b[39;00m\n\u001b[0;32m---> 14\u001b[0m mode_x \u001b[38;5;241m=\u001b[39m \u001b[43mstats\u001b[49m\u001b[38;5;241;43m.\u001b[39;49m\u001b[43mmode\u001b[49m\u001b[43m(\u001b[49m\u001b[43mdf\u001b[49m\u001b[43m[\u001b[49m\u001b[38;5;124;43m'\u001b[39;49m\u001b[38;5;124;43mx\u001b[39;49m\u001b[38;5;124;43m'\u001b[39;49m\u001b[43m]\u001b[49m\u001b[43m)\u001b[49m\u001b[38;5;241;43m.\u001b[39;49m\u001b[43mmode\u001b[49m\u001b[43m[\u001b[49m\u001b[38;5;241;43m0\u001b[39;49m\u001b[43m]\u001b[49m\n\u001b[1;32m     16\u001b[0m \u001b[38;5;66;03m# Calculating standard deviation of column y\u001b[39;00m\n\u001b[1;32m     17\u001b[0m std_dev_y \u001b[38;5;241m=\u001b[39m np\u001b[38;5;241m.\u001b[39mstd(df[\u001b[38;5;124m'\u001b[39m\u001b[38;5;124my\u001b[39m\u001b[38;5;124m'\u001b[39m])\n",
            "\u001b[0;31mIndexError\u001b[0m: invalid index to scalar variable."
          ],
          "output_type": "error"
        }
      ],
      "execution_count": 1
    },
    {
      "cell_type": "code",
      "source": "",
      "metadata": {
        "trusted": true
      },
      "outputs": [],
      "execution_count": null
    }
  ]
}